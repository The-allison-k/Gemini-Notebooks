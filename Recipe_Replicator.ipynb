{
  "nbformat": 4,
  "nbformat_minor": 0,
  "metadata": {
    "colab": {
      "provenance": [],
      "include_colab_link": true
    },
    "kernelspec": {
      "name": "python3",
      "display_name": "Python 3"
    },
    "language_info": {
      "name": "python"
    }
  },
  "cells": [
    {
      "cell_type": "markdown",
      "metadata": {
        "id": "view-in-github",
        "colab_type": "text"
      },
      "source": [
        "<a href=\"https://colab.research.google.com/github/The-allison-k/Gemini-Notebooks/blob/main/Recipe_Replicator.ipynb\" target=\"_parent\"><img src=\"https://colab.research.google.com/assets/colab-badge.svg\" alt=\"Open In Colab\"/></a>"
      ]
    },
    {
      "cell_type": "markdown",
      "source": [
        "# Code for Recipe Replicator"
      ],
      "metadata": {
        "id": "0L4aiETM_WG8"
      }
    },
    {
      "cell_type": "markdown",
      "source": [
        "## Install, Auth, and Imports"
      ],
      "metadata": {
        "id": "xExxWlC7HTrx"
      }
    },
    {
      "cell_type": "code",
      "execution_count": null,
      "metadata": {
        "id": "5dT8os0A-IEH"
      },
      "outputs": [],
      "source": [
        "%pip install --upgrade --quiet google-genai\n",
        "\n",
        "import sys\n",
        "\n",
        "if \"google.colab\" in sys.modules:\n",
        "    from google.colab import auth\n",
        "\n",
        "    auth.authenticate_user()\n",
        "\n",
        "\n",
        "from IPython.display import HTML, Image, Markdown, display\n",
        "from google import genai\n",
        "from google.genai.types import (\n",
        "    FunctionDeclaration,\n",
        "    GenerateContentConfig,\n",
        "    GoogleSearch,\n",
        "    HarmBlockThreshold,\n",
        "    HarmCategory,\n",
        "    Part,\n",
        "    SafetySetting,\n",
        "    Tool,\n",
        "    ToolCodeExecution,\n",
        ")\n",
        "\n"
      ]
    },
    {
      "cell_type": "markdown",
      "source": [
        "## Set the project and models to be used"
      ],
      "metadata": {
        "id": "mzWvMIXf_cl3"
      }
    },
    {
      "cell_type": "code",
      "source": [
        "import os\n",
        "\n",
        "PROJECT_ID = \"\"  # @param {type: \"string\", placeholder: \"[your-project-id]\", isTemplate: true}\n",
        "if not PROJECT_ID or PROJECT_ID == \"[your-project-id]\":\n",
        "    PROJECT_ID = str(os.environ.get(\"GOOGLE_CLOUD_PROJECT\"))\n",
        "\n",
        "LOCATION = os.environ.get(\"GOOGLE_CLOUD_REGION\", \"global\")\n",
        "client = genai.Client(vertexai=True, project=PROJECT_ID, location=LOCATION)\n",
        "\n",
        "\n",
        "MODEL_ID = \"gemini-2.5-pro-preview-06-05\"  # @param {type: \"string\"}\n"
      ],
      "metadata": {
        "id": "SlIoXiph-NoM"
      },
      "execution_count": null,
      "outputs": []
    },
    {
      "cell_type": "markdown",
      "source": [
        "## Add Google search as a tool"
      ],
      "metadata": {
        "id": "B5uL1Y6pCAu3"
      }
    },
    {
      "cell_type": "code",
      "source": [
        "google_search_tool = Tool(google_search=GoogleSearch())"
      ],
      "metadata": {
        "id": "EQK6FEljCACm"
      },
      "execution_count": null,
      "outputs": []
    },
    {
      "cell_type": "markdown",
      "source": [
        "## Create a Multi-Turn Chat with Google Search as a tool"
      ],
      "metadata": {
        "id": "atZcpZQq_lpO"
      }
    },
    {
      "cell_type": "code",
      "source": [
        "chat = client.chats.create(\n",
        "    model=MODEL_ID,\n",
        "    config=GenerateContentConfig(tools=[google_search_tool])\n",
        "    )\n"
      ],
      "metadata": {
        "id": "iNZ4n05L-ewE"
      },
      "execution_count": null,
      "outputs": []
    },
    {
      "cell_type": "markdown",
      "source": [
        "## Link it to an image from a Google review"
      ],
      "metadata": {
        "id": "u8jglhDf_qyB"
      }
    },
    {
      "cell_type": "code",
      "source": [
        "image_file_url = \"https://lh3.googleusercontent.com/gps-cs-s/AC9h4nqrsiS_gziCB08g10yO5SOKG_tM90C-YL-iKWT_Rg7Cyxr1RbwN9lNpEUf3Bj7ejXk-GQpYuQ5YvcJ_HVT-e3z_gjPVd04GPD11bPA95Qgx89atXn4ODmaMcVqShzCnJpoboNBn=s1360-w1360-h1020-rw\" # @param {type: \"string\", placeholder: \"[URL]\", isTemplate: true}\n",
        "\n",
        "display(Image(url=image_file_url, width=400))"
      ],
      "metadata": {
        "id": "X7N75A9m_tFu"
      },
      "execution_count": null,
      "outputs": []
    },
    {
      "cell_type": "markdown",
      "source": [
        "## Write your prompt"
      ],
      "metadata": {
        "id": "vX4UduwGAKaN"
      }
    },
    {
      "cell_type": "code",
      "source": [
        "Prompt = \"You are a professional vegan chef. You are trying to re-create a recipe from a restaruant you went to called Avant Garden in NYC. This is the full restaruant menu:    C O L D  BABY GEM (NF)  charred gem lettuce. caesar. roasted tomato. avocado. garlic nori crouton.  $18  BRUSSELS  crispy brussels. endive. arugula. fig gastrique. candied walnuts.  $19  AVOCADO (GF)  carrot ginger dressing. crispy rice. miso glaze. blistered shishito  $22  T O A S T  FIG  soy ricotta. balsamic pearls. pistachio. white balsamic reduction. basil.  $20  ARTICHOKE  spinach artichoke puree. black truffle vinaigrette. jicama. cashew.  $21  CREMINI MUSHROOM  grape. onion marmalade. herbs de provence. walnut purée.  $19  SUNCHOKE  pickled pear. pistachio. mint. olive purée.  $18  H O T  SQUASH SOUP  kambucha. corn & butternut squash. cashew crema.  $18  SCORCHED CAULIFLOWER (GF, NF)  toasted garlic. fried capers. cauliflower puree.  $26  CELERY ROOT PASTA (NF)  shaved black truffle. shiitake velour. gremolata  $29  HEN OF THE WOODS (GF, NF)  mushroom puree. kohlrabi. pickled hon shimeji.  $21  ROASTED CARROT (NF)  farro. ramp chimichurri. cucumber tzatziki.  $26  RISOTTO (GF, NF)  lobster mushroom. watercress. balsamic pearls. basil oil.  $28  SPAGHETTI (NF)  house-made pasta. carbonara sauce. smoked mushrooms.  $24  TAMAL  mole. bean & epazote sour cream. jackfruit. pickled red onion  $26  PAELLA (GF)  calasparra rice. royal trumpet. almond. red pepper & merguez aioli  $29    I really enjoyed this dish: SCORCHED CAULIFLOWER (GF, NF)  toasted garlic. fried capers. cauliflower puree.  I need you to make me a recipe to for me to make it. The restaurant told me that there is Calabrian chili oil. you have a picture of the food. Use google to search reviews to get an idea of the flavor. Ask any questions needed then write me a full recipe to make this dish. Keep in mind it is vegan. Use google search to look at reviews and find other similar recipes. Be sure to look into vegan recipes and how to replicate the scorched cauliflower. I know the chili oil is in the sauce. Ask any questions needed for clarification. Look at the image to get ideas of how it was made. Make you look at the image sent to make sure the final result will look like the image\" # @param {type: \"string\", placeholder: \"[your prompt]\", isTemplate: true}\n",
        "\n",
        "response = chat.send_message(\n",
        "        Part.from_uri(file_uri=image_file_url, mime_type=\"image/png\")\n",
        ")\n",
        "\n",
        "\n",
        "response = chat.send_message(\n",
        "        Prompt\n",
        ")\n",
        "\n",
        "\n",
        "display(Markdown(response.text))\n"
      ],
      "metadata": {
        "id": "dJL3xXuHAA3V"
      },
      "execution_count": null,
      "outputs": []
    },
    {
      "cell_type": "markdown",
      "source": [
        "## Answer questions or ask followup questions for changese as needed to match what you know"
      ],
      "metadata": {
        "id": "7qyK7GGxIRlt"
      }
    },
    {
      "cell_type": "code",
      "source": [
        "Prompt = \"I would rather pan fry I am not comfortable with deep frying. \" # @param {type: \"string\", placeholder: \"[your prompt]\", isTemplate: true}\n",
        "\n",
        "\n",
        "response = chat.send_message(\n",
        "        Prompt\n",
        ")\n",
        "\n",
        "display(Markdown(response.text))\n"
      ],
      "metadata": {
        "id": "0SALQV2HH-QR"
      },
      "execution_count": null,
      "outputs": []
    }
  ]
}
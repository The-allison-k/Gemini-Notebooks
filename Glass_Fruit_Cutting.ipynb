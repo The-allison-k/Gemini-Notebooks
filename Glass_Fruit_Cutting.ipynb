{
  "nbformat": 4,
  "nbformat_minor": 0,
  "metadata": {
    "colab": {
      "provenance": [],
      "authorship_tag": "ABX9TyN4nbg1Ekl8DfOmiXWKjBRo",
      "include_colab_link": true
    },
    "kernelspec": {
      "name": "python3",
      "display_name": "Python 3"
    },
    "language_info": {
      "name": "python"
    }
  },
  "cells": [
    {
      "cell_type": "markdown",
      "metadata": {
        "id": "view-in-github",
        "colab_type": "text"
      },
      "source": [
        "<a href=\"https://colab.research.google.com/github/The-allison-k/Gemini-Notebooks/blob/main/Glass_Fruit_Cutting.ipynb\" target=\"_parent\"><img src=\"https://colab.research.google.com/assets/colab-badge.svg\" alt=\"Open In Colab\"/></a>"
      ]
    },
    {
      "cell_type": "markdown",
      "source": [
        "# **Generating Video with Google's Veo Model**\n",
        "This notebook demonstrates how to use Google's Veo model to generate a video from a text prompt. By running this notebook, you will learn how to:\n",
        "\n",
        "* Set up the necessary environment and authenticate with Google Cloud.\n",
        "* Define a text prompt for video generation.\n",
        "* Configure the Veo model and initiate the video generation process.\n",
        "* Save the output video to Google Cloud Storage.\n",
        "\n",
        "\n",
        "Join the Veo3 [Waitlist](https://docs.google.com/forms/d/e/1FAIpQLSciY6O_qGg2J0A8VUcK4egJ3_Tysh-wGTl-l218XtC0e7lM_w/viewform)\n",
        "\n"
      ],
      "metadata": {
        "id": "zHPSCxezseln"
      }
    },
    {
      "cell_type": "markdown",
      "source": [
        "# **Import Libraries**\n",
        "\n",
        "This code cell installs necessary Python libraries for Google Cloud AI Platform and Google Generative AI, as well as upgrading the Google GenAI library."
      ],
      "metadata": {
        "id": "7B5n5OGWj5in"
      }
    },
    {
      "cell_type": "code",
      "execution_count": null,
      "metadata": {
        "id": "b1TckQB1j3kY"
      },
      "outputs": [],
      "source": [
        "!pip install google-cloud-aiplatform google-generativeai\n",
        "!pip install --upgrade google-genai\n",
        "\n"
      ]
    },
    {
      "cell_type": "markdown",
      "source": [
        "# **Authenticate and set up your Google Cloud Project**\n",
        "This code cell authenticates the user with Google Cloud, imports necessary libraries for interacting with Google GenAI, and sets up authentication."
      ],
      "metadata": {
        "id": "DitvJq1gkB45"
      }
    },
    {
      "cell_type": "code",
      "source": [
        "#    (IMPORTANT: Store your API key securely as a Colab Secret named 'GOOGLE_API_KEY')\n",
        "from google.colab import userdata\n",
        "import time\n",
        "from IPython.display import Video, display\n",
        "from google import genai\n",
        "from google.genai.types import GenerateVideosConfig\n",
        "from google.colab import auth\n",
        "\n",
        "auth.authenticate_user()\n",
        "\n"
      ],
      "metadata": {
        "id": "8pU0Euc6kCEH"
      },
      "execution_count": null,
      "outputs": []
    },
    {
      "cell_type": "markdown",
      "source": [
        "# **Select the Veo model and set Project ID**\n",
        "\n",
        "This code cell defines the Google Cloud Project ID, the Veo model ID to be used, region, and storage bucket."
      ],
      "metadata": {
        "id": "gJXvBwODkjTO"
      }
    },
    {
      "cell_type": "code",
      "source": [
        "GOOGLE_CLOUD_PROJECT = \"\" # @param {type: \"string\", placeholder: \"[project-ID]\", isTemplate: true}\n",
        "VEO_MODEL_ID = \"\" # @param {type: \"string\", placeholder: \"[veo-3.0-generate-preview]\", isTemplate: true}\n",
        "GOOGLE_CLOUD_LOCATION=\"global\"\n",
        "GOOGLE_GENAI_USE_VERTEXAI=True\n",
        "output_gcs_uri = \"\" # @param {type: \"string\", placeholder: \"[Storage-Bucket]\", isTemplate: true}\n",
        "\n",
        "\n",
        "\n",
        "\n",
        "\n"
      ],
      "metadata": {
        "id": "q0lyN4eUkMQL"
      },
      "execution_count": null,
      "outputs": []
    },
    {
      "cell_type": "markdown",
      "source": [
        "# **Define your prompt for glass fruit cutting**\n",
        "\n",
        "This code cell defines the text prompt that will be used by the Veo model to generate the video. It includes detailed instructions and negative prompts to guide the generation process."
      ],
      "metadata": {
        "id": "fTGUJXB5kpUS"
      }
    },
    {
      "cell_type": "code",
      "source": [
        "\n",
        "prompt =(\n",
        "    '''\n",
        " An extreme close-up, ASMR perspective. A single, perfectly sharp knife,\n",
        " gleaming, smoothly slices through the exact center of a **hyper-realistic,\n",
        "  perfectly transparent, and reflective red glass apple.** The apple exhibits\n",
        "   **clear internal refractions and subtle light distortion, mimicking genuine\n",
        "    glass.** A distinct white glass center is clearly visible after the cut. As\n",
        "     the knife completes the singular, clean cut, the first sliced piece of the\n",
        "      glass apple gracefully and immediately falls away, **maintaining its\n",
        "       original orientation as it descends,** revealing a pristine, smooth cut\n",
        "        surface on both halves. The glass separates with a satisfying, almost\n",
        "         fluid resistance, as if it were a soft fruit. Cinematic lighting,\n",
        "          hyper-realistic detail, rendered in 4K and another slice happens.\n",
        "\n",
        "Negative prompt: Shattering, breaking, realistic glass physics (except for clean\n",
        " separation), hard edges, dull knife, fast motion, blurry, low resolution,\n",
        "  cartoon, abstract, unrealistic slicing, unnatural movement, chaotic particles,\n",
        "   cut from shot to shot, change background, jumpcut, knife disappearing, knife\n",
        "    on wrong side of apple, multiple cuts, apple not separating, slice remaining\n",
        "     attached, **slice flipping, slice rotating unnaturally.**'''\n",
        ")\n",
        "\n"
      ],
      "metadata": {
        "id": "8sR1JYE6kpbE"
      },
      "execution_count": null,
      "outputs": []
    },
    {
      "cell_type": "markdown",
      "source": [
        "# **Configure the Generative AI client**\n",
        "This code cell configures the Generative AI client, specifies the output location in Google Cloud Storage, initiates the video generation process using the Veo model and the defined prompt, and then polls the operation until it's complete, finally printing the GCS URI of the generated video."
      ],
      "metadata": {
        "id": "xLq14cotkezQ"
      }
    },
    {
      "cell_type": "code",
      "source": [
        "client = genai.Client(vertexai=GOOGLE_GENAI_USE_VERTEXAI, project=GOOGLE_CLOUD_PROJECT, location=GOOGLE_CLOUD_LOCATION)\n",
        "\n",
        "operation = client.models.generate_videos(\n",
        "    model=VEO_MODEL_ID ,\n",
        "    prompt=prompt,\n",
        "    config=GenerateVideosConfig(\n",
        "        aspect_ratio=\"16:9\",\n",
        "        output_gcs_uri=output_gcs_uri,\n",
        "    ),\n",
        ")\n",
        "\n",
        "while not operation.done:\n",
        "    time.sleep(15)\n",
        "    operation = client.operations.get(operation)\n",
        "    print(operation)\n",
        "\n",
        "if operation.response:\n",
        "    print(operation.result.generated_videos[0].video.uri)"
      ],
      "metadata": {
        "id": "E8f1Nia5ke9j"
      },
      "execution_count": null,
      "outputs": []
    },
    {
      "cell_type": "markdown",
      "source": [
        "# **Conclusion**\n",
        "You have successfully used Google's Veo model to generate a video from a text prompt. The generated video is stored in the specified Google Cloud Storage bucket. You can now download and view the video to see the result of your prompt.\n",
        "\n",
        "\n"
      ],
      "metadata": {
        "id": "qb6izd-rsxZw"
      }
    }
  ]
}